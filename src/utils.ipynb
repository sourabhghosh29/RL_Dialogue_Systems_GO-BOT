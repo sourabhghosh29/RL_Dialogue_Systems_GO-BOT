{
 "cells": [
  {
   "cell_type": "code",
   "execution_count": 1,
   "metadata": {},
   "outputs": [
    {
     "name": "stdout",
     "output_type": "stream",
     "text": [
      "importing Jupyter notebook from dialogue_config.ipynb\n"
     ]
    }
   ],
   "source": [
    "import import_ipynb\n",
    "from dialogue_config import FAIL, SUCCESS"
   ]
  },
  {
   "cell_type": "code",
   "execution_count": 2,
   "metadata": {},
   "outputs": [],
   "source": [
    "def convert_list_to_dict(lst):\n",
    "    \"\"\"\n",
    "    Convert list to dict where the keys are the list elements, and the values are the indices of the elements in the list.\n",
    "    Parameters:\n",
    "        lst (list)\n",
    "    Returns:\n",
    "        dict\n",
    "    \"\"\"\n",
    "\n",
    "    if len(lst) > len(set(lst)):\n",
    "        raise ValueError('List must be unique!')\n",
    "    return {k: v for v, k in enumerate(lst)}"
   ]
  },
  {
   "cell_type": "code",
   "execution_count": 3,
   "metadata": {},
   "outputs": [],
   "source": [
    "def remove_empty_slots(dic):\n",
    "    \"\"\"\n",
    "    Removes all items with values of '' (ie values of empty string).\n",
    "    Parameters:\n",
    "        dic (dict)\n",
    "    \"\"\"\n",
    "\n",
    "    for id in list(dic.keys()):\n",
    "        for key in list(dic[id].keys()):\n",
    "            if dic[id][key] == '':\n",
    "                dic[id].pop(key)"
   ]
  },
  {
   "cell_type": "code",
   "execution_count": 4,
   "metadata": {},
   "outputs": [],
   "source": [
    "def reward_function(success, max_round):\n",
    "    \"\"\"\n",
    "    Return the reward given the success.\n",
    "    Return -1 + -max_round if success is FAIL, -1 + 2 * max_round if success is SUCCESS and -1 otherwise.\n",
    "    Parameters:\n",
    "        success (int)\n",
    "    Returns:\n",
    "        int: Reward\n",
    "    \"\"\"\n",
    "\n",
    "    reward = -1\n",
    "    print('SUCCESS : ',success)\n",
    "    if success == FAIL:\n",
    "        reward += -max_round\n",
    "    elif success == SUCCESS:\n",
    "        reward += 2 * max_round\n",
    "    return reward"
   ]
  },
  {
   "cell_type": "code",
   "execution_count": null,
   "metadata": {},
   "outputs": [],
   "source": []
  },
  {
   "cell_type": "code",
   "execution_count": null,
   "metadata": {},
   "outputs": [],
   "source": []
  }
 ],
 "metadata": {
  "kernelspec": {
   "display_name": "Python 3",
   "language": "python",
   "name": "python3"
  },
  "language_info": {
   "codemirror_mode": {
    "name": "ipython",
    "version": 3
   },
   "file_extension": ".py",
   "mimetype": "text/x-python",
   "name": "python",
   "nbconvert_exporter": "python",
   "pygments_lexer": "ipython3",
   "version": "3.7.4"
  }
 },
 "nbformat": 4,
 "nbformat_minor": 2
}
