{
 "cells": [
  {
   "cell_type": "code",
   "execution_count": 1,
   "metadata": {},
   "outputs": [
    {
     "data": {
      "text/plain": [
       "'no match available'"
      ]
     },
     "execution_count": 1,
     "metadata": {},
     "output_type": "execute_result"
    }
   ],
   "source": [
    "# Special slot values (for reference)\n",
    "'PLACEHOLDER'  # For informs\n",
    "'UNK'  # For requests\n",
    "'anything'  # means any value works for the slot with this value\n",
    "'no match available'  # When the intent of the agent is match_found yet no db match fits current constraints"
   ]
  },
  {
   "cell_type": "code",
   "execution_count": 2,
   "metadata": {},
   "outputs": [],
   "source": [
    "#######################################\n",
    "# Usersim Config\n",
    "#######################################\n",
    "# Used in EMC for intent error (and in user)\n",
    "usersim_intents = ['inform', 'request', 'thanks', 'reject', 'done']\n",
    "\n",
    "# The goal of the agent is to inform a match for this key\n",
    "usersim_default_key = 'ticket'\n",
    "\n",
    "# Required to be in the first action in inform slots of the usersim if they exist in the goal inform slots\n",
    "usersim_required_init_inform_keys = ['moviename']\n"
   ]
  },
  {
   "cell_type": "code",
   "execution_count": 3,
   "metadata": {},
   "outputs": [],
   "source": [
    "#######################################\n",
    "# Agent Config\n",
    "#######################################\n",
    "\n",
    "# Possible inform and request slots for the agent\n",
    "agent_inform_slots = ['moviename', 'theater', 'starttime', 'date', 'genre', 'state', 'city', 'zip', 'critic_rating',\n",
    "                      'mpaa_rating', 'distanceconstraints', 'video_format', 'theater_chain', 'price', 'actor',\n",
    "                      'description', 'other', 'numberofkids', usersim_default_key]\n",
    "agent_request_slots = ['moviename', 'theater', 'starttime', 'date', 'numberofpeople', 'genre', 'state', 'city', 'zip',\n",
    "                       'critic_rating', 'mpaa_rating', 'distanceconstraints', 'video_format', 'theater_chain', 'price',\n",
    "                       'actor', 'description', 'other', 'numberofkids']"
   ]
  },
  {
   "cell_type": "code",
   "execution_count": 4,
   "metadata": {},
   "outputs": [],
   "source": [
    "# Possible actions for agent\n",
    "agent_actions = [\n",
    "    {'intent': 'done', 'inform_slots': {}, 'request_slots': {}},  # Triggers closing of conversation\n",
    "    {'intent': 'match_found', 'inform_slots': {}, 'request_slots': {}}\n",
    "]\n",
    "for slot in agent_inform_slots:\n",
    "    # Must use intent match found to inform this, but still have to keep in agent inform slots\n",
    "    if slot == usersim_default_key:\n",
    "        continue\n",
    "    agent_actions.append({'intent': 'inform', 'inform_slots': {slot: 'PLACEHOLDER'}, 'request_slots': {}})\n",
    "for slot in agent_request_slots:\n",
    "    agent_actions.append({'intent': 'request', 'inform_slots': {}, 'request_slots': {slot: 'UNK'}})"
   ]
  },
  {
   "cell_type": "code",
   "execution_count": 5,
   "metadata": {},
   "outputs": [],
   "source": [
    "# Rule-based policy request list\n",
    "rule_requests = ['moviename', 'starttime', 'city', 'date', 'theater', 'numberofpeople']\n",
    "\n",
    "# These are possible inform slot keys that cannot be used to query\n",
    "no_query_keys = ['numberofpeople', usersim_default_key]\n"
   ]
  },
  {
   "cell_type": "code",
   "execution_count": 6,
   "metadata": {},
   "outputs": [],
   "source": [
    "#######################################\n",
    "# Global config\n",
    "#######################################\n",
    "\n",
    "# These are used for both constraint check AND success check in usersim\n",
    "FAIL = -1\n",
    "NO_OUTCOME = 0\n",
    "SUCCESS = 1\n",
    "\n",
    "# All possible intents (for one-hot conversion in ST.get_state())\n",
    "all_intents = ['inform', 'request', 'done', 'match_found', 'thanks', 'reject']\n",
    "\n",
    "# All possible slots (for one-hot conversion in ST.get_state())\n",
    "all_slots = ['actor', 'actress', 'city', 'critic_rating', 'date', 'description', 'distanceconstraints',\n",
    "             'genre', 'greeting', 'implicit_value', 'movie_series', 'moviename', 'mpaa_rating',\n",
    "             'numberofpeople', 'numberofkids', 'other', 'price', 'seating', 'starttime', 'state',\n",
    "             'theater', 'theater_chain', 'video_format', 'zip', 'result', usersim_default_key, 'mc_list']"
   ]
  },
  {
   "cell_type": "code",
   "execution_count": null,
   "metadata": {},
   "outputs": [],
   "source": []
  }
 ],
 "metadata": {
  "kernelspec": {
   "display_name": "Python 3",
   "language": "python",
   "name": "python3"
  },
  "language_info": {
   "codemirror_mode": {
    "name": "ipython",
    "version": 3
   },
   "file_extension": ".py",
   "mimetype": "text/x-python",
   "name": "python",
   "nbconvert_exporter": "python",
   "pygments_lexer": "ipython3",
   "version": "3.7.4"
  }
 },
 "nbformat": 4,
 "nbformat_minor": 2
}
